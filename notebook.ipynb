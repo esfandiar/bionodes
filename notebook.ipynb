{
 "cells": [
  {
   "cell_type": "code",
   "execution_count": 1,
   "metadata": {},
   "outputs": [],
   "source": [
    "import pdfminer\n",
    "from pdfminer import high_level\n",
    "import requests\n",
    "from io import BytesIO, SEEK_SET, SEEK_END\n",
    "import re\n",
    "from bs4 import BeautifulSoup"
   ]
  },
  {
   "cell_type": "code",
   "execution_count": 2,
   "metadata": {},
   "outputs": [],
   "source": [
    "class ResponseStream(object):\n",
    "    def __init__(self, request_iterator):\n",
    "        self._bytes = BytesIO()\n",
    "        self._iterator = request_iterator\n",
    "\n",
    "    def _load_all(self):\n",
    "        self._bytes.seek(0, SEEK_END)\n",
    "        for chunk in self._iterator:\n",
    "            self._bytes.write(chunk)\n",
    "\n",
    "    def _load_until(self, goal_position):\n",
    "        current_position = self._bytes.seek(0, SEEK_END)\n",
    "        while current_position < goal_position:\n",
    "            try:\n",
    "                current_position = self._bytes.write(next(self._iterator))\n",
    "            except StopIteration:\n",
    "                break\n",
    "\n",
    "    def tell(self):\n",
    "        return self._bytes.tell()\n",
    "\n",
    "    def read(self, size=None):\n",
    "        left_off_at = self._bytes.tell()\n",
    "        if size is None:\n",
    "            self._load_all()\n",
    "        else:\n",
    "            goal_position = left_off_at + size\n",
    "            self._load_until(goal_position)\n",
    "\n",
    "        self._bytes.seek(left_off_at)\n",
    "        return self._bytes.read(size)\n",
    "    \n",
    "    def seek(self, position, whence=SEEK_SET):\n",
    "        if whence == SEEK_END:\n",
    "            self._load_all()\n",
    "        else:\n",
    "            self._bytes.seek(position, whence)"
   ]
  },
  {
   "cell_type": "code",
   "execution_count": 3,
   "metadata": {},
   "outputs": [],
   "source": [
    "def extract_raw_text(url):\n",
    "    response = requests.get(url, stream=True)\n",
    "    stream = ResponseStream(response.iter_content(64))\n",
    "    return high_level.extract_text(stream, password='', page_numbers=None, maxpages=0, caching=True, codec='utf-8', laparams=None)  "
   ]
  },
  {
   "cell_type": "code",
   "execution_count": 4,
   "metadata": {},
   "outputs": [],
   "source": [
    "content = extract_raw_text(\"https://www.medrxiv.org/content/10.1101/2020.04.05.20053884v2.full.pdf\")"
   ]
  },
  {
   "cell_type": "code",
   "execution_count": 5,
   "metadata": {},
   "outputs": [],
   "source": [
    "keywords = [keyword.strip() for keyword in re.findall(\"(?<=Keywords:)(.*)(?=\\\\n)\", content)[0].split(\";\") if keyword.strip()]"
   ]
  },
  {
   "cell_type": "code",
   "execution_count": 6,
   "metadata": {},
   "outputs": [
    {
     "output_type": "execute_result",
     "data": {
      "text/plain": "['SARS-CoV-2',\n 'COVID-19',\n 'Coronavirus',\n 'Epidemiological parameters',\n 'Interventions']"
     },
     "metadata": {},
     "execution_count": 6
    }
   ],
   "source": [
    "keywords"
   ]
  },
  {
   "cell_type": "code",
   "execution_count": 7,
   "metadata": {},
   "outputs": [],
   "source": [
    "res = requests.get('https://www.medrxiv.org/collection/epidemiology?page=1')\n",
    "html = res.text\n",
    "soup = BeautifulSoup(html, 'html.parser')"
   ]
  },
  {
   "cell_type": "code",
   "execution_count": 12,
   "metadata": {},
   "outputs": [
    {
     "output_type": "stream",
     "name": "stdout",
     "text": "The December 2019 New Corona Virus Disease (SARS-CoV-2) Outbreak: A Behavioral Infectious Disease Policy Model\nThe Effect of Stay-at-Home Orders on COVID-19 Infections in the United States\nUsing ICU data to improve the real-time estimation of the effective reproductive number of the COVID-19 epidemic in 9 European countries\nEstimating the Fraction of Unreported Infections in Epidemics with a Known Epicenter: an Application to COVID-19\nSimCOVID: An Open-Source Simulation Program for the COVID-19 Outbreak\nAnalysis of COVID-19 spread in South Korea using the SIR model with time-dependent parameters and deep learning\nRISK ANALYSIS AND PREDICTION FOR COVID19 DEMOGRAPHICS IN LOW RESOURCE SETTINGS USING A PYTHON DESKTOP APP AND EXCEL MODELS.\nA Predictive Model for the Evolution of COVID-19\nAnalysis of the COVID-19 epidemic in french overseas department Mayotte based on a modified deterministic and stochastic SEIR model\nMARKOVIAN RANDOM WALK MODELING AND VISUALIZATION OF THE EPIDEMIC SPREAD OF COVID-19\n"
    }
   ],
   "source": [
    "for link in soup.find_all(\"a\", {\"class\":\"highwire-cite-linked-title\"}):\n",
    "    # print(link.get(\"href\"))\n",
    "    # print(link.get(\"span\"))\n",
    "    print(link.find('span').text)"
   ]
  }
 ],
 "metadata": {
  "kernelspec": {
   "display_name": "Python 3.7.7 64-bit ('biograph': conda)",
   "language": "python",
   "name": "python37764bitbiographconda8d737b0b3bf4446897daf6444b6a3ffc"
  },
  "language_info": {
   "codemirror_mode": {
    "name": "ipython",
    "version": 3
   },
   "file_extension": ".py",
   "mimetype": "text/x-python",
   "name": "python",
   "nbconvert_exporter": "python",
   "pygments_lexer": "ipython3",
   "version": "3.7.7-final"
  }
 },
 "nbformat": 4,
 "nbformat_minor": 4
}