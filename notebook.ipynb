{
 "cells": [
  {
   "cell_type": "code",
   "execution_count": 1,
   "metadata": {},
   "outputs": [],
   "source": [
    "from pdfminer import high_level\n",
    "import requests\n",
    "from io import BytesIO, SEEK_SET, SEEK_END\n",
    "import re\n",
    "from bs4 import BeautifulSoup"
   ]
  },
  {
   "cell_type": "code",
   "execution_count": 2,
   "metadata": {},
   "outputs": [],
   "source": [
    "class ResponseStream(object):\n",
    "    def __init__(self, request_iterator):\n",
    "        self._bytes = BytesIO()\n",
    "        self._iterator = request_iterator\n",
    "\n",
    "    def _load_all(self):\n",
    "        self._bytes.seek(0, SEEK_END)\n",
    "        for chunk in self._iterator:\n",
    "            self._bytes.write(chunk)\n",
    "\n",
    "    def _load_until(self, goal_position):\n",
    "        current_position = self._bytes.seek(0, SEEK_END)\n",
    "        while current_position < goal_position:\n",
    "            try:\n",
    "                current_position = self._bytes.write(next(self._iterator))\n",
    "            except StopIteration:\n",
    "                break\n",
    "\n",
    "    def tell(self):\n",
    "        return self._bytes.tell()\n",
    "\n",
    "    def read(self, size=None):\n",
    "        left_off_at = self._bytes.tell()\n",
    "        if size is None:\n",
    "            self._load_all()\n",
    "        else:\n",
    "            goal_position = left_off_at + size\n",
    "            self._load_until(goal_position)\n",
    "\n",
    "        self._bytes.seek(left_off_at)\n",
    "        return self._bytes.read(size)\n",
    "    \n",
    "    def seek(self, position, whence=SEEK_SET):\n",
    "        if whence == SEEK_END:\n",
    "            self._load_all()\n",
    "        else:\n",
    "            self._bytes.seek(position, whence)"
   ]
  },
  {
   "cell_type": "code",
   "execution_count": 3,
   "metadata": {},
   "outputs": [],
   "source": [
    "def extract_raw_text(url):\n",
    "    response = requests.get(url, stream=True)\n",
    "    stream = ResponseStream(response.iter_content(64))\n",
    "    return high_level.extract_text(stream, password='', page_numbers=None, maxpages=0, caching=True, codec='utf-8', laparams=None)  "
   ]
  },
  {
   "cell_type": "code",
   "execution_count": 4,
   "metadata": {},
   "outputs": [],
   "source": [
    "content = extract_raw_text(\"https://www.medrxiv.org/content/10.1101/2020.04.05.20053884v2.full.pdf\")"
   ]
  },
  {
   "cell_type": "code",
   "execution_count": 5,
   "metadata": {},
   "outputs": [],
   "source": [
    "keywords = [keyword.strip() for keyword in re.findall(\"(?<=Keywords:)(.*)(?=\\\\n)\", content)[0].split(\";\") if keyword.strip()]"
   ]
  },
  {
   "cell_type": "code",
   "execution_count": 6,
   "metadata": {},
   "outputs": [
    {
     "output_type": "execute_result",
     "data": {
      "text/plain": "['SARS-CoV-2',\n 'COVID-19',\n 'Coronavirus',\n 'Epidemiological parameters',\n 'Interventions']"
     },
     "metadata": {},
     "execution_count": 6
    }
   ],
   "source": [
    "keywords"
   ]
  },
  {
   "cell_type": "code",
   "execution_count": 7,
   "metadata": {},
   "outputs": [],
   "source": [
    "res = requests.get('https://www.medrxiv.org/collection/epidemiology?page=1')\n",
    "html = res.text\n",
    "soup = BeautifulSoup(html, 'html.parser')"
   ]
  },
  {
   "cell_type": "code",
   "execution_count": 8,
   "metadata": {},
   "outputs": [
    {
     "output_type": "execute_result",
     "data": {
      "text/plain": "79"
     },
     "metadata": {},
     "execution_count": 8
    }
   ],
   "source": [
    "ul = soup.find_all(\"ul\", {\"class\":\"pager-items\"})[0]\n",
    "int(ul.find_all(\"li\")[-1].text)"
   ]
  },
  {
   "cell_type": "code",
   "execution_count": 9,
   "metadata": {},
   "outputs": [
    {
     "output_type": "stream",
     "name": "stdout",
     "text": "Model calibration, nowcasting, and operational prediction of the COVID-19 pandemic\nCountries should aim to lower the reproduction number R close to 1.0 for the short-term mitigation of COVID-19 outbreaks\nThe Easter and Passover Blip in New York City\nState-level variation of initial COVID-19 dynamics in the United States: The role of local government interventions\nEstimate of COVID-19 case prevalence in India based on surveillance data of patients with severe acute respiratory illness\nThe Longevity-Frailty Hypothesis: Evidence from COVID-19 Death Rates in Europe\nEstimation of Tunisia COVID-19 infected cases based on mortality rate\nUsing Feedback on Symptomatic Infections to Contain the Coronavirus Epidemic: Insight from a SPIR Model\nNature of transmission of Covid19 in India\nOutbreak dynamics of COVID-19 in China and the United States\n"
    }
   ],
   "source": [
    "for link in soup.find_all(\"a\", {\"class\":\"highwire-cite-linked-title\"}):\n",
    "    # print(link.get(\"href\"))\n",
    "    # print(link.get(\"span\"))\n",
    "    print(link.find('span').text)"
   ]
  }
 ],
 "metadata": {
  "kernelspec": {
   "display_name": "Python 3.7.7 64-bit",
   "language": "python",
   "name": "python37764bit2d776e4d93a246b88630b72b74231b67"
  },
  "language_info": {
   "codemirror_mode": {
    "name": "ipython",
    "version": 3
   },
   "file_extension": ".py",
   "mimetype": "text/x-python",
   "name": "python",
   "nbconvert_exporter": "python",
   "pygments_lexer": "ipython3",
   "version": "3.7.7-final"
  }
 },
 "nbformat": 4,
 "nbformat_minor": 4
}