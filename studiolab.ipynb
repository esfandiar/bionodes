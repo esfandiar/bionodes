{
 "cells": [
  {
   "cell_type": "code",
   "execution_count": 25,
   "id": "dd64b8ca-7457-4507-8c55-4afeebc4b1f5",
   "metadata": {
    "tags": []
   },
   "outputs": [],
   "source": [
    "import os\n",
    "import requests\n",
    "from bs4 import BeautifulSoup\n",
    "import logging\n",
    "from typing import Iterator\n",
    "import boto3\n",
    "from pathlib import Path\n",
    "from langchain_community.document_loaders import PyMuPDFLoader\n",
    "from langchain_text_splitters import RecursiveCharacterTextSplitter\n",
    "from langchain_community.graphs.neptune_graph import NeptuneGraph"
   ]
  },
  {
   "cell_type": "code",
   "execution_count": 2,
   "id": "4edd3c17-2358-46c3-89d6-0535fa2e22a0",
   "metadata": {
    "tags": []
   },
   "outputs": [],
   "source": [
    "MEDRXIV_URL = \"https://www.medrxiv.org\""
   ]
  },
  {
   "cell_type": "code",
   "execution_count": 3,
   "id": "22eb9a2b-05e5-4322-a255-409f33040544",
   "metadata": {
    "tags": []
   },
   "outputs": [],
   "source": [
    "logger = logging.getLogger(__name__)\n",
    "logger.setLevel(logging.DEBUG)"
   ]
  },
  {
   "cell_type": "code",
   "execution_count": 4,
   "id": "96b54045-b4fd-49e0-a580-5076735f6822",
   "metadata": {
    "tags": []
   },
   "outputs": [],
   "source": [
    "class Crawler:\n",
    "    def __init__(self):\n",
    "        pass\n",
    "\n",
    "    @staticmethod\n",
    "    def _get_last_page(collection_url: str) -> int:\n",
    "        res = requests.get(collection_url)\n",
    "        html = res.text\n",
    "        soup = BeautifulSoup(html, \"html.parser\")\n",
    "        uls = soup.find_all(\"ul\", {\"class\": \"pager-items\"})\n",
    "        if uls:\n",
    "            return int(uls[0].find_all(\"li\")[-1].text)\n",
    "        else:\n",
    "            return 0\n",
    "\n",
    "    @staticmethod\n",
    "    def _get_pdf_link_from_href(href) -> str:\n",
    "        article_href = href.get(\"href\")\n",
    "        return f\"{MEDRXIV_URL}{article_href}\"\n",
    "\n",
    "    @staticmethod\n",
    "    def get_urls_for_collection(collection: str) -> Iterator[str]:\n",
    "        collection_url = f\"{MEDRXIV_URL}/collection/{collection}\"\n",
    "        logger.warn(\"Crawling %s ...\", collection_url)\n",
    "        last_page = Crawler._get_last_page(collection_url)\n",
    "        logger.warn(\"There are %d pages in this collection\", last_page)\n",
    "\n",
    "        for page in range(0, last_page):\n",
    "            url = collection_url if page == 0 else f\"{collection_url}?page={page}\"\n",
    "            logger.warn(\"Crawling page %d of %d. Url: %s ...\", page, last_page, url)\n",
    "            res = requests.get(url)\n",
    "            html = res.text\n",
    "            soup = BeautifulSoup(html, \"html.parser\")\n",
    "\n",
    "            links = soup.find_all(\"a\", {\"class\": \"highwire-cite-linked-title\"})\n",
    "            for link in links:\n",
    "                full_article_url = Crawler._get_pdf_link_from_href(link)\n",
    "                pdf_url = f\"{full_article_url}.full.pdf\"\n",
    "                logger.warn(\"Found article: %s\", pdf_url)\n",
    "                yield pdf_url"
   ]
  },
  {
   "cell_type": "code",
   "execution_count": 6,
   "id": "88d1a3ef-c542-4c8b-9ee1-fd717d76f718",
   "metadata": {
    "tags": []
   },
   "outputs": [],
   "source": [
    "s3_client = boto3.client('s3')"
   ]
  },
  {
   "cell_type": "code",
   "execution_count": null,
   "id": "261a3de5-1916-4877-92b3-f059bf56733b",
   "metadata": {
    "tags": []
   },
   "outputs": [],
   "source": [
    "local_folder = \"/home/studio-lab-user/sagemaker-studiolab-notebooks/bionodes_docs\"\n",
    "collection_name = \"Epidemiology\"\n",
    "urls = Crawler.get_urls_for_collection(collection_name)\n",
    "for url in urls:\n",
    "    filename = url.split(\"/\")[-1]\n",
    "    local_file_path = os.path.join(local_folder, filename)\n",
    "    response = requests.get(url)\n",
    "    with open(local_file_path, \"wb\") as file:\n",
    "        file.write(response.content)\n",
    "        s3_client.upload_file(local_file_path, \"bionodes\", f\"{collection_name}/{filename}\")"
   ]
  },
  {
   "cell_type": "code",
   "execution_count": 17,
   "id": "dc51ff85-2ed7-4a38-b331-a566b6d383bd",
   "metadata": {
    "tags": []
   },
   "outputs": [],
   "source": [
    "text_splitter = RecursiveCharacterTextSplitter(\n",
    "    chunk_size = 2000,\n",
    "    chunk_overlap  = 200,\n",
    "    length_function = len,\n",
    "    is_separator_regex = False,\n",
    ")"
   ]
  },
  {
   "cell_type": "code",
   "execution_count": null,
   "id": "4b286548-0b14-44e1-bedd-d36beb971f18",
   "metadata": {},
   "outputs": [],
   "source": [
    "pathlist = Path(local_folder).glob('**/*.pdf')\n",
    "chunks = []\n",
    "for path in pathlist:\n",
    "    path_in_str = str(path)   \n",
    "    loader = PyMuPDFLoader(path_in_str)\n",
    "    data = loader.load()\n",
    "    \n",
    "    for page in data:\n",
    "        page_chunks = text_splitter.split_text(data[0].page_content)\n",
    "        chunks.extend(page_chunks)"
   ]
  },
  {
   "cell_type": "code",
   "execution_count": 29,
   "id": "2a0f9954-db40-4237-8292-66c3d45954e0",
   "metadata": {
    "tags": []
   },
   "outputs": [],
   "source": [
    "neptune_client = boto3.client('neptune','us-east-1')"
   ]
  },
  {
   "cell_type": "code",
   "execution_count": 30,
   "id": "af97816d-d9e2-44c9-b8fb-b41ebce4fb06",
   "metadata": {
    "tags": []
   },
   "outputs": [
    {
     "ename": "NeptuneQueryException",
     "evalue": "{'message': 'Could not get schema for Neptune database', 'detail': '{\\'message\\': \\'Summary API is not available for this instance of Neptune,ensure the engine version is >=1.2.1.0\\', \\'details\\': \"\\'Neptune\\' object has no attribute \\'get_propertygraph_summary\\'\"}'}",
     "output_type": "error",
     "traceback": [
      "\u001b[0;31m---------------------------------------------------------------------------\u001b[0m",
      "\u001b[0;31mAttributeError\u001b[0m                            Traceback (most recent call last)",
      "File \u001b[0;32m/opt/conda/envs/sagemaker-distribution/lib/python3.10/site-packages/langchain_community/graphs/neptune_graph.py:393\u001b[0m, in \u001b[0;36mNeptuneGraph._get_summary\u001b[0;34m(self)\u001b[0m\n\u001b[1;32m    392\u001b[0m \u001b[38;5;28;01mtry\u001b[39;00m:\n\u001b[0;32m--> 393\u001b[0m     response \u001b[38;5;241m=\u001b[39m \u001b[38;5;28;43mself\u001b[39;49m\u001b[38;5;241;43m.\u001b[39;49m\u001b[43mclient\u001b[49m\u001b[38;5;241;43m.\u001b[39;49m\u001b[43mget_propertygraph_summary\u001b[49m()\n\u001b[1;32m    394\u001b[0m \u001b[38;5;28;01mexcept\u001b[39;00m \u001b[38;5;167;01mException\u001b[39;00m \u001b[38;5;28;01mas\u001b[39;00m e:\n",
      "File \u001b[0;32m/opt/conda/envs/sagemaker-distribution/lib/python3.10/site-packages/botocore/client.py:906\u001b[0m, in \u001b[0;36mBaseClient.__getattr__\u001b[0;34m(self, item)\u001b[0m\n\u001b[1;32m    904\u001b[0m     \u001b[38;5;28;01mreturn\u001b[39;00m event_response\n\u001b[0;32m--> 906\u001b[0m \u001b[38;5;28;01mraise\u001b[39;00m \u001b[38;5;167;01mAttributeError\u001b[39;00m(\n\u001b[1;32m    907\u001b[0m     \u001b[38;5;124mf\u001b[39m\u001b[38;5;124m\"\u001b[39m\u001b[38;5;124m'\u001b[39m\u001b[38;5;132;01m{\u001b[39;00m\u001b[38;5;28mself\u001b[39m\u001b[38;5;241m.\u001b[39m\u001b[38;5;18m__class__\u001b[39m\u001b[38;5;241m.\u001b[39m\u001b[38;5;18m__name__\u001b[39m\u001b[38;5;132;01m}\u001b[39;00m\u001b[38;5;124m'\u001b[39m\u001b[38;5;124m object has no attribute \u001b[39m\u001b[38;5;124m'\u001b[39m\u001b[38;5;132;01m{\u001b[39;00mitem\u001b[38;5;132;01m}\u001b[39;00m\u001b[38;5;124m'\u001b[39m\u001b[38;5;124m\"\u001b[39m\n\u001b[1;32m    908\u001b[0m )\n",
      "\u001b[0;31mAttributeError\u001b[0m: 'Neptune' object has no attribute 'get_propertygraph_summary'",
      "\nDuring handling of the above exception, another exception occurred:\n",
      "\u001b[0;31mNeptuneQueryException\u001b[0m                     Traceback (most recent call last)",
      "File \u001b[0;32m/opt/conda/envs/sagemaker-distribution/lib/python3.10/site-packages/langchain_community/graphs/neptune_graph.py:368\u001b[0m, in \u001b[0;36mNeptuneGraph.__init__\u001b[0;34m(self, host, port, use_https, client, credentials_profile_name, region_name, sign)\u001b[0m\n\u001b[1;32m    367\u001b[0m \u001b[38;5;28;01mtry\u001b[39;00m:\n\u001b[0;32m--> 368\u001b[0m     \u001b[38;5;28;43mself\u001b[39;49m\u001b[38;5;241;43m.\u001b[39;49m\u001b[43m_refresh_schema\u001b[49m\u001b[43m(\u001b[49m\u001b[43m)\u001b[49m\n\u001b[1;32m    369\u001b[0m \u001b[38;5;28;01mexcept\u001b[39;00m \u001b[38;5;167;01mException\u001b[39;00m \u001b[38;5;28;01mas\u001b[39;00m e:\n",
      "File \u001b[0;32m/opt/conda/envs/sagemaker-distribution/lib/python3.10/site-packages/langchain_community/graphs/neptune_graph.py:127\u001b[0m, in \u001b[0;36mBaseNeptuneGraph._refresh_schema\u001b[0;34m(self)\u001b[0m\n\u001b[1;32m    119\u001b[0m types \u001b[38;5;241m=\u001b[39m {\n\u001b[1;32m    120\u001b[0m     \u001b[38;5;124m\"\u001b[39m\u001b[38;5;124mstr\u001b[39m\u001b[38;5;124m\"\u001b[39m: \u001b[38;5;124m\"\u001b[39m\u001b[38;5;124mSTRING\u001b[39m\u001b[38;5;124m\"\u001b[39m,\n\u001b[1;32m    121\u001b[0m     \u001b[38;5;124m\"\u001b[39m\u001b[38;5;124mfloat\u001b[39m\u001b[38;5;124m\"\u001b[39m: \u001b[38;5;124m\"\u001b[39m\u001b[38;5;124mDOUBLE\u001b[39m\u001b[38;5;124m\"\u001b[39m,\n\u001b[0;32m   (...)\u001b[0m\n\u001b[1;32m    125\u001b[0m     \u001b[38;5;124m\"\u001b[39m\u001b[38;5;124mbool\u001b[39m\u001b[38;5;124m\"\u001b[39m: \u001b[38;5;124m\"\u001b[39m\u001b[38;5;124mBOOLEAN\u001b[39m\u001b[38;5;124m\"\u001b[39m,\n\u001b[1;32m    126\u001b[0m }\n\u001b[0;32m--> 127\u001b[0m n_labels, e_labels \u001b[38;5;241m=\u001b[39m \u001b[38;5;28;43mself\u001b[39;49m\u001b[38;5;241;43m.\u001b[39;49m\u001b[43m_get_labels\u001b[49m\u001b[43m(\u001b[49m\u001b[43m)\u001b[49m\n\u001b[1;32m    128\u001b[0m triple_schema \u001b[38;5;241m=\u001b[39m \u001b[38;5;28mself\u001b[39m\u001b[38;5;241m.\u001b[39m_get_triples(e_labels)\n",
      "File \u001b[0;32m/opt/conda/envs/sagemaker-distribution/lib/python3.10/site-packages/langchain_community/graphs/neptune_graph.py:42\u001b[0m, in \u001b[0;36mBaseNeptuneGraph._get_labels\u001b[0;34m(self)\u001b[0m\n\u001b[1;32m     41\u001b[0m \u001b[38;5;250m\u001b[39m\u001b[38;5;124;03m\"\"\"Get node and edge labels from the Neptune statistics summary\"\"\"\u001b[39;00m\n\u001b[0;32m---> 42\u001b[0m summary \u001b[38;5;241m=\u001b[39m \u001b[38;5;28;43mself\u001b[39;49m\u001b[38;5;241;43m.\u001b[39;49m\u001b[43m_get_summary\u001b[49m\u001b[43m(\u001b[49m\u001b[43m)\u001b[49m\n\u001b[1;32m     43\u001b[0m n_labels \u001b[38;5;241m=\u001b[39m summary[\u001b[38;5;124m\"\u001b[39m\u001b[38;5;124mnodeLabels\u001b[39m\u001b[38;5;124m\"\u001b[39m]\n",
      "File \u001b[0;32m/opt/conda/envs/sagemaker-distribution/lib/python3.10/site-packages/langchain_community/graphs/neptune_graph.py:395\u001b[0m, in \u001b[0;36mNeptuneGraph._get_summary\u001b[0;34m(self)\u001b[0m\n\u001b[1;32m    394\u001b[0m \u001b[38;5;28;01mexcept\u001b[39;00m \u001b[38;5;167;01mException\u001b[39;00m \u001b[38;5;28;01mas\u001b[39;00m e:\n\u001b[0;32m--> 395\u001b[0m     \u001b[38;5;28;01mraise\u001b[39;00m NeptuneQueryException(\n\u001b[1;32m    396\u001b[0m         {\n\u001b[1;32m    397\u001b[0m             \u001b[38;5;124m\"\u001b[39m\u001b[38;5;124mmessage\u001b[39m\u001b[38;5;124m\"\u001b[39m: (\n\u001b[1;32m    398\u001b[0m                 \u001b[38;5;124m\"\u001b[39m\u001b[38;5;124mSummary API is not available for this instance of Neptune,\u001b[39m\u001b[38;5;124m\"\u001b[39m\n\u001b[1;32m    399\u001b[0m                 \u001b[38;5;124m\"\u001b[39m\u001b[38;5;124mensure the engine version is >=1.2.1.0\u001b[39m\u001b[38;5;124m\"\u001b[39m\n\u001b[1;32m    400\u001b[0m             ),\n\u001b[1;32m    401\u001b[0m             \u001b[38;5;124m\"\u001b[39m\u001b[38;5;124mdetails\u001b[39m\u001b[38;5;124m\"\u001b[39m: \u001b[38;5;28mstr\u001b[39m(e),\n\u001b[1;32m    402\u001b[0m         }\n\u001b[1;32m    403\u001b[0m     )\n\u001b[1;32m    405\u001b[0m \u001b[38;5;28;01mtry\u001b[39;00m:\n",
      "\u001b[0;31mNeptuneQueryException\u001b[0m: {'message': 'Summary API is not available for this instance of Neptune,ensure the engine version is >=1.2.1.0', 'details': \"'Neptune' object has no attribute 'get_propertygraph_summary'\"}",
      "\nDuring handling of the above exception, another exception occurred:\n",
      "\u001b[0;31mNeptuneQueryException\u001b[0m                     Traceback (most recent call last)",
      "Cell \u001b[0;32mIn[30], line 1\u001b[0m\n\u001b[0;32m----> 1\u001b[0m graph \u001b[38;5;241m=\u001b[39m \u001b[43mNeptuneGraph\u001b[49m\u001b[43m(\u001b[49m\n\u001b[1;32m      2\u001b[0m \u001b[43m    \u001b[49m\u001b[43mhost\u001b[49m\u001b[38;5;241;43m=\u001b[39;49m\u001b[38;5;124;43m'\u001b[39;49m\u001b[38;5;124;43mdb-neptune-1.cluster-comdbuopgbbk.us-east-1.neptune.amazonaws.com\u001b[39;49m\u001b[38;5;124;43m'\u001b[39;49m\u001b[43m,\u001b[49m\n\u001b[1;32m      3\u001b[0m \u001b[43m    \u001b[49m\u001b[43mport\u001b[49m\u001b[38;5;241;43m=\u001b[39;49m\u001b[38;5;241;43m8182\u001b[39;49m\u001b[43m,\u001b[49m\n\u001b[1;32m      4\u001b[0m \u001b[43m    \u001b[49m\u001b[43mclient\u001b[49m\u001b[38;5;241;43m=\u001b[39;49m\u001b[43mneptune_client\u001b[49m\n\u001b[1;32m      5\u001b[0m \u001b[43m)\u001b[49m\n",
      "File \u001b[0;32m/opt/conda/envs/sagemaker-distribution/lib/python3.10/site-packages/langchain_community/graphs/neptune_graph.py:370\u001b[0m, in \u001b[0;36mNeptuneGraph.__init__\u001b[0;34m(self, host, port, use_https, client, credentials_profile_name, region_name, sign)\u001b[0m\n\u001b[1;32m    368\u001b[0m     \u001b[38;5;28mself\u001b[39m\u001b[38;5;241m.\u001b[39m_refresh_schema()\n\u001b[1;32m    369\u001b[0m \u001b[38;5;28;01mexcept\u001b[39;00m \u001b[38;5;167;01mException\u001b[39;00m \u001b[38;5;28;01mas\u001b[39;00m e:\n\u001b[0;32m--> 370\u001b[0m     \u001b[38;5;28;01mraise\u001b[39;00m NeptuneQueryException(\n\u001b[1;32m    371\u001b[0m         {\n\u001b[1;32m    372\u001b[0m             \u001b[38;5;124m\"\u001b[39m\u001b[38;5;124mmessage\u001b[39m\u001b[38;5;124m\"\u001b[39m: \u001b[38;5;124m\"\u001b[39m\u001b[38;5;124mCould not get schema for Neptune database\u001b[39m\u001b[38;5;124m\"\u001b[39m,\n\u001b[1;32m    373\u001b[0m             \u001b[38;5;124m\"\u001b[39m\u001b[38;5;124mdetail\u001b[39m\u001b[38;5;124m\"\u001b[39m: \u001b[38;5;28mstr\u001b[39m(e),\n\u001b[1;32m    374\u001b[0m         }\n\u001b[1;32m    375\u001b[0m     )\n",
      "\u001b[0;31mNeptuneQueryException\u001b[0m: {'message': 'Could not get schema for Neptune database', 'detail': '{\\'message\\': \\'Summary API is not available for this instance of Neptune,ensure the engine version is >=1.2.1.0\\', \\'details\\': \"\\'Neptune\\' object has no attribute \\'get_propertygraph_summary\\'\"}'}"
     ]
    }
   ],
   "source": [
    "graph = NeptuneGraph(\n",
    "    host='db-neptune-1.cluster-comdbuopgbbk.us-east-1.neptune.amazonaws.com',\n",
    "    port=8182,\n",
    "    client=neptune_client\n",
    ")"
   ]
  },
  {
   "cell_type": "code",
   "execution_count": 24,
   "id": "50f73f80-5001-49b6-b465-9e7ded49422d",
   "metadata": {
    "tags": []
   },
   "outputs": [
    {
     "ename": "AttributeError",
     "evalue": "'NeptuneData' object has no attribute 'describe_db_clusters'",
     "output_type": "error",
     "traceback": [
      "\u001b[0;31m---------------------------------------------------------------------------\u001b[0m",
      "\u001b[0;31mAttributeError\u001b[0m                            Traceback (most recent call last)",
      "Cell \u001b[0;32mIn[24], line 1\u001b[0m\n\u001b[0;32m----> 1\u001b[0m \u001b[43mneptune_client\u001b[49m\u001b[38;5;241;43m.\u001b[39;49m\u001b[43mdescribe_db_clusters\u001b[49m()\n",
      "File \u001b[0;32m/opt/conda/envs/sagemaker-distribution/lib/python3.10/site-packages/botocore/client.py:906\u001b[0m, in \u001b[0;36mBaseClient.__getattr__\u001b[0;34m(self, item)\u001b[0m\n\u001b[1;32m    903\u001b[0m \u001b[38;5;28;01mif\u001b[39;00m event_response \u001b[38;5;129;01mis\u001b[39;00m \u001b[38;5;129;01mnot\u001b[39;00m \u001b[38;5;28;01mNone\u001b[39;00m:\n\u001b[1;32m    904\u001b[0m     \u001b[38;5;28;01mreturn\u001b[39;00m event_response\n\u001b[0;32m--> 906\u001b[0m \u001b[38;5;28;01mraise\u001b[39;00m \u001b[38;5;167;01mAttributeError\u001b[39;00m(\n\u001b[1;32m    907\u001b[0m     \u001b[38;5;124mf\u001b[39m\u001b[38;5;124m\"\u001b[39m\u001b[38;5;124m'\u001b[39m\u001b[38;5;132;01m{\u001b[39;00m\u001b[38;5;28mself\u001b[39m\u001b[38;5;241m.\u001b[39m\u001b[38;5;18m__class__\u001b[39m\u001b[38;5;241m.\u001b[39m\u001b[38;5;18m__name__\u001b[39m\u001b[38;5;132;01m}\u001b[39;00m\u001b[38;5;124m'\u001b[39m\u001b[38;5;124m object has no attribute \u001b[39m\u001b[38;5;124m'\u001b[39m\u001b[38;5;132;01m{\u001b[39;00mitem\u001b[38;5;132;01m}\u001b[39;00m\u001b[38;5;124m'\u001b[39m\u001b[38;5;124m\"\u001b[39m\n\u001b[1;32m    908\u001b[0m )\n",
      "\u001b[0;31mAttributeError\u001b[0m: 'NeptuneData' object has no attribute 'describe_db_clusters'"
     ]
    }
   ],
   "source": [
    "response = client.execute_open_cypher_query(\n",
    "    openCypherQuery='',\n",
    "    parameters='string'\n",
    ")"
   ]
  },
  {
   "cell_type": "code",
   "execution_count": null,
   "id": "0599d1fd-4f15-4542-8073-6733dbe13fe8",
   "metadata": {},
   "outputs": [],
   "source": [
    "# Extract keywords for each article\n",
    "# Create graph, "
   ]
  }
 ],
 "metadata": {
  "kernelspec": {
   "display_name": "sagemaker-distribution:Python",
   "language": "python",
   "name": "conda-env-sagemaker-distribution-py"
  },
  "language_info": {
   "codemirror_mode": {
    "name": "ipython",
    "version": 3
   },
   "file_extension": ".py",
   "mimetype": "text/x-python",
   "name": "python",
   "nbconvert_exporter": "python",
   "pygments_lexer": "ipython3",
   "version": "3.10.14"
  }
 },
 "nbformat": 4,
 "nbformat_minor": 5
}
